{
  "nbformat": 4,
  "nbformat_minor": 0,
  "metadata": {
    "colab": {
      "name": "bai2",
      "provenance": [],
      "authorship_tag": "ABX9TyN0iLEPQNzl8HBXpuRzZYjy",
      "include_colab_link": true
    },
    "kernelspec": {
      "name": "python3",
      "display_name": "Python 3"
    }
  },
  "cells": [
    {
      "cell_type": "markdown",
      "metadata": {
        "id": "view-in-github",
        "colab_type": "text"
      },
      "source": [
        "<a href=\"https://colab.research.google.com/github/nguyentriducanh2000/CS114.K21/blob/master/bai2.ipynb\" target=\"_parent\"><img src=\"https://colab.research.google.com/assets/colab-badge.svg\" alt=\"Open In Colab\"/></a>"
      ]
    },
    {
      "cell_type": "code",
      "metadata": {
        "id": "_s7HHFfDdrM-",
        "colab_type": "code",
        "colab": {}
      },
      "source": [
        "import numpy as np\n",
        "import pandas as pd"
      ],
      "execution_count": 0,
      "outputs": []
    },
    {
      "cell_type": "markdown",
      "metadata": {
        "id": "m6KTdlRSvch1",
        "colab_type": "text"
      },
      "source": [
        "**An Ctrl+S de luu file ve may. upload file len colab**"
      ]
    },
    {
      "cell_type": "code",
      "metadata": {
        "id": "VUa4TptbvLpD",
        "colab_type": "code",
        "colab": {}
      },
      "source": [
        "df = pd.read_csv(\"data2.csv\")\n",
        "df.columns=[\"size\",\"time\"]"
      ],
      "execution_count": 0,
      "outputs": []
    },
    {
      "cell_type": "markdown",
      "metadata": {
        "id": "_xBjzFhevoUR",
        "colab_type": "text"
      },
      "source": [
        "**Chon model de train: dung linear model. Import train_test_split de training**"
      ]
    },
    {
      "cell_type": "code",
      "metadata": {
        "id": "Zmz3JpGQvTrO",
        "colab_type": "code",
        "colab": {}
      },
      "source": [
        "from sklearn import datasets, linear_model\n",
        "from sklearn.model_selection import train_test_split\n",
        "\n",
        "array = df.values\n",
        "X = array[:,0:1]\n",
        "y = array[:,1]"
      ],
      "execution_count": 0,
      "outputs": []
    },
    {
      "cell_type": "markdown",
      "metadata": {
        "id": "yE-5XS6ivwUT",
        "colab_type": "text"
      },
      "source": [
        "**Training data. Dung 80% data de training va 20% de test**"
      ]
    },
    {
      "cell_type": "code",
      "metadata": {
        "id": "kRSXjXw8vtqV",
        "colab_type": "code",
        "colab": {
          "base_uri": "https://localhost:8080/",
          "height": 34
        },
        "outputId": "19c1dbac-4f79-4794-e988-aa87916a1bea"
      },
      "source": [
        "X_train, X_validation, Y_train, Y_validation = train_test_split(X, y, test_size=0.2, random_state=1)\n",
        "regr = linear_model.LinearRegression() \n",
        "regr.fit(X_train, Y_train)\n",
        "\n",
        "a=regr.predict(X_validation)\n",
        "a\n",
        "\n",
        "regr.score(X_validation,Y_validation)"
      ],
      "execution_count": 11,
      "outputs": [
        {
          "output_type": "execute_result",
          "data": {
            "text/plain": [
              "0.9975972096951308"
            ]
          },
          "metadata": {
            "tags": []
          },
          "execution_count": 11
        }
      ]
    }
  ]
}