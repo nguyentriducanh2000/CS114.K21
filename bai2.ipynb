{
  "nbformat": 4,
  "nbformat_minor": 0,
  "metadata": {
    "colab": {
      "name": "bai2",
      "provenance": [],
      "authorship_tag": "ABX9TyP/j71nZvwzIPmTp/EvlXEI",
      "include_colab_link": true
    },
    "kernelspec": {
      "name": "python3",
      "display_name": "Python 3"
    }
  },
  "cells": [
    {
      "cell_type": "markdown",
      "metadata": {
        "id": "view-in-github",
        "colab_type": "text"
      },
      "source": [
        "<a href=\"https://colab.research.google.com/github/nguyentriducanh2000/CS114.K21/blob/master/bai2.ipynb\" target=\"_parent\"><img src=\"https://colab.research.google.com/assets/colab-badge.svg\" alt=\"Open In Colab\"/></a>"
      ]
    },
    {
      "cell_type": "code",
      "metadata": {
        "id": "_s7HHFfDdrM-",
        "colab_type": "code",
        "colab": {}
      },
      "source": [
        "import numpy as np\n",
        "import pandas as pd"
      ],
      "execution_count": 0,
      "outputs": []
    },
    {
      "cell_type": "markdown",
      "metadata": {
        "id": "m6KTdlRSvch1",
        "colab_type": "text"
      },
      "source": [
        "**An Ctrl+S de luu file ve may. upload file len colab**"
      ]
    },
    {
      "cell_type": "code",
      "metadata": {
        "id": "VUa4TptbvLpD",
        "colab_type": "code",
        "colab": {}
      },
      "source": [
        "df = pd.read_csv(\"data2.csv\")\n",
        "df.columns=[\"size\",\"time\"]"
      ],
      "execution_count": 0,
      "outputs": []
    },
    {
      "cell_type": "markdown",
      "metadata": {
        "id": "_xBjzFhevoUR",
        "colab_type": "text"
      },
      "source": [
        "**Chon model de train: dung linear model. Import train_test_split de training**"
      ]
    },
    {
      "cell_type": "code",
      "metadata": {
        "id": "Zmz3JpGQvTrO",
        "colab_type": "code",
        "colab": {}
      },
      "source": [
        "from sklearn import datasets, linear_model\n",
        "from sklearn.model_selection import train_test_split\n",
        "\n",
        "array = df.values\n",
        "X = array[:,0:1]\n",
        "y = array[:,1]"
      ],
      "execution_count": 0,
      "outputs": []
    },
    {
      "cell_type": "markdown",
      "metadata": {
        "id": "yE-5XS6ivwUT",
        "colab_type": "text"
      },
      "source": [
        "**Training data. Dung 80% data de training va 20% de test**"
      ]
    },
    {
      "cell_type": "code",
      "metadata": {
        "id": "kRSXjXw8vtqV",
        "colab_type": "code",
        "colab": {
          "base_uri": "https://localhost:8080/",
          "height": 51
        },
        "outputId": "aee91afc-a72b-4f05-ccce-17da732801a9"
      },
      "source": [
        "X_train, X_validation, Y_train, Y_validation = train_test_split(X, y, test_size=0.2, random_state=1)\n",
        "regr = linear_model.LinearRegression() \n",
        "regr.fit(X_train, Y_train)\n",
        "\n",
        "regr.predict(X_validation)\n",
        "\n",
        "\n"
      ],
      "execution_count": 14,
      "outputs": [
        {
          "output_type": "execute_result",
          "data": {
            "text/plain": [
              "array([ 0.10092636,  0.76247647,  0.42425168, ..., -0.01410459,\n",
              "        0.73274525,  0.25021932])"
            ]
          },
          "metadata": {
            "tags": []
          },
          "execution_count": 14
        }
      ]
    },
    {
      "cell_type": "markdown",
      "metadata": {
        "id": "obyNFFXPxUv8",
        "colab_type": "text"
      },
      "source": [
        "**Tinh do chinh xac cua ung dung va ket luan do hieu qua cua ung dung**"
      ]
    },
    {
      "cell_type": "code",
      "metadata": {
        "id": "LnGCQek-xTFB",
        "colab_type": "code",
        "colab": {
          "base_uri": "https://localhost:8080/",
          "height": 34
        },
        "outputId": "ea102204-a0ad-4806-8bc2-15e05b10e391"
      },
      "source": [
        "regr.score(X_validation,Y_validation)"
      ],
      "execution_count": 15,
      "outputs": [
        {
          "output_type": "execute_result",
          "data": {
            "text/plain": [
              "0.9975972096951308"
            ]
          },
          "metadata": {
            "tags": []
          },
          "execution_count": 15
        }
      ]
    }
  ]
}