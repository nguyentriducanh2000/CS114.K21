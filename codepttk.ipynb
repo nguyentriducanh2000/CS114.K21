{
  "nbformat": 4,
  "nbformat_minor": 0,
  "metadata": {
    "colab": {
      "name": "codepttk",
      "provenance": [],
      "collapsed_sections": [],
      "authorship_tag": "ABX9TyO5DhPdJpReSTsBOR0c88Yu",
      "include_colab_link": true
    },
    "kernelspec": {
      "name": "python3",
      "display_name": "Python 3"
    }
  },
  "cells": [
    {
      "cell_type": "markdown",
      "metadata": {
        "id": "view-in-github",
        "colab_type": "text"
      },
      "source": [
        "<a href=\"https://colab.research.google.com/github/nguyentriducanh2000/CS114.K21/blob/master/codepttk.ipynb\" target=\"_parent\"><img src=\"https://colab.research.google.com/assets/colab-badge.svg\" alt=\"Open In Colab\"/></a>"
      ]
    },
    {
      "cell_type": "code",
      "metadata": {
        "colab": {
          "base_uri": "https://localhost:8080/",
          "height": 483
        },
        "id": "decRdOj2-Qqg",
        "outputId": "8a62cdfd-6be9-44fe-fc0b-2d896d7ef4d7"
      },
      "source": [
        "import pandas as pd\r\n",
        "#read file\r\n",
        "file = open('/content/data.csv')\r\n",
        "#tính số hàng của data\r\n",
        "numline = len(file.readlines())\r\n",
        "data = pd.read_csv('/content/data.csv')\r\n",
        "data"
      ],
      "execution_count": 138,
      "outputs": [
        {
          "output_type": "execute_result",
          "data": {
            "text/html": [
              "<div>\n",
              "<style scoped>\n",
              "    .dataframe tbody tr th:only-of-type {\n",
              "        vertical-align: middle;\n",
              "    }\n",
              "\n",
              "    .dataframe tbody tr th {\n",
              "        vertical-align: top;\n",
              "    }\n",
              "\n",
              "    .dataframe thead th {\n",
              "        text-align: right;\n",
              "    }\n",
              "</style>\n",
              "<table border=\"1\" class=\"dataframe\">\n",
              "  <thead>\n",
              "    <tr style=\"text-align: right;\">\n",
              "      <th></th>\n",
              "      <th>wnm</th>\n",
              "      <th>wt</th>\n",
              "      <th>ans</th>\n",
              "    </tr>\n",
              "  </thead>\n",
              "  <tbody>\n",
              "    <tr>\n",
              "      <th>0</th>\n",
              "      <td>15 3 3</td>\n",
              "      <td>16 16 16 5 5 5</td>\n",
              "      <td>12</td>\n",
              "    </tr>\n",
              "    <tr>\n",
              "      <th>1</th>\n",
              "      <td>15 3 3</td>\n",
              "      <td>12 1 4 12 12 12</td>\n",
              "      <td>13</td>\n",
              "    </tr>\n",
              "    <tr>\n",
              "      <th>2</th>\n",
              "      <td>15 3 3</td>\n",
              "      <td>12 1 4 16 3 16</td>\n",
              "      <td>14</td>\n",
              "    </tr>\n",
              "    <tr>\n",
              "      <th>3</th>\n",
              "      <td>17 3 3</td>\n",
              "      <td>13 4 8 8 4 6</td>\n",
              "      <td>17</td>\n",
              "    </tr>\n",
              "    <tr>\n",
              "      <th>4</th>\n",
              "      <td>17 3 3</td>\n",
              "      <td>4 4 4 4 4 4</td>\n",
              "      <td>15</td>\n",
              "    </tr>\n",
              "    <tr>\n",
              "      <th>5</th>\n",
              "      <td>20 3 3</td>\n",
              "      <td>21 18 17 19 2 4</td>\n",
              "      <td>19</td>\n",
              "    </tr>\n",
              "    <tr>\n",
              "      <th>6</th>\n",
              "      <td>20 3 3</td>\n",
              "      <td>12 6 5 8 7 6</td>\n",
              "      <td>19</td>\n",
              "    </tr>\n",
              "    <tr>\n",
              "      <th>7</th>\n",
              "      <td>20 3 4</td>\n",
              "      <td>4 5 4 2 2 2 2</td>\n",
              "      <td>16</td>\n",
              "    </tr>\n",
              "    <tr>\n",
              "      <th>8</th>\n",
              "      <td>20 4 3</td>\n",
              "      <td>3 3 3 3 2 2 2</td>\n",
              "      <td>15</td>\n",
              "    </tr>\n",
              "    <tr>\n",
              "      <th>9</th>\n",
              "      <td>23 3 3</td>\n",
              "      <td>3 17 20 12 3 4</td>\n",
              "      <td>23</td>\n",
              "    </tr>\n",
              "    <tr>\n",
              "      <th>10</th>\n",
              "      <td>23 3 3</td>\n",
              "      <td>5 5 5 7 8 8</td>\n",
              "      <td>22</td>\n",
              "    </tr>\n",
              "    <tr>\n",
              "      <th>11</th>\n",
              "      <td>23 3 3</td>\n",
              "      <td>7 7 7 6 6 23</td>\n",
              "      <td>22</td>\n",
              "    </tr>\n",
              "    <tr>\n",
              "      <th>12</th>\n",
              "      <td>30 4 2</td>\n",
              "      <td>3 4 5 5 3 2</td>\n",
              "      <td>20</td>\n",
              "    </tr>\n",
              "    <tr>\n",
              "      <th>13</th>\n",
              "      <td>40 3 3</td>\n",
              "      <td>6 3 3 4 2 2</td>\n",
              "      <td>17</td>\n",
              "    </tr>\n",
              "  </tbody>\n",
              "</table>\n",
              "</div>"
            ],
            "text/plain": [
              "        wnm               wt  ans\n",
              "0    15 3 3   16 16 16 5 5 5   12\n",
              "1    15 3 3  12 1 4 12 12 12   13\n",
              "2   15 3 3    12 1 4 16 3 16   14\n",
              "3    17 3 3     13 4 8 8 4 6   17\n",
              "4    17 3 3      4 4 4 4 4 4   15\n",
              "5    20 3 3  21 18 17 19 2 4   19\n",
              "6    20 3 3     12 6 5 8 7 6   19\n",
              "7    20 3 4    4 5 4 2 2 2 2   16\n",
              "8   20 4 3     3 3 3 3 2 2 2   15\n",
              "9    23 3 3   3 17 20 12 3 4   23\n",
              "10   23 3 3      5 5 5 7 8 8   22\n",
              "11  23 3 3      7 7 7 6 6 23   22\n",
              "12   30 4 2      3 4 5 5 3 2   20\n",
              "13  40 3 3       6 3 3 4 2 2   17"
            ]
          },
          "metadata": {
            "tags": []
          },
          "execution_count": 138
        }
      ]
    },
    {
      "cell_type": "code",
      "metadata": {
        "id": "v0I9Q1JMMmDC"
      },
      "source": [
        "#ham cai dat thuat toan\r\n",
        "def knapSack(W, wt, val, N):\r\n",
        "    K = [[0 for x in range(W + 1)] for x in range(N + 1)] \r\n",
        "    for i in range(N + 1):\r\n",
        "        for w in range(W + 1):   \r\n",
        "            if i == 0 or w == 0: \r\n",
        "                K[i][w] = 0\r\n",
        "            elif wt[i-1] <= w: \r\n",
        "                K[i][w] = max(val[i-1] + K[i-1][w-wt[i-1]],  K[i-1][w]) \r\n",
        "            else: \r\n",
        "                K[i][w] = K[i-1][w] \r\n",
        "    return K[N][W]"
      ],
      "execution_count": 139,
      "outputs": []
    },
    {
      "cell_type": "code",
      "metadata": {
        "colab": {
          "base_uri": "https://localhost:8080/"
        },
        "id": "Yc6xF0unKp7S",
        "outputId": "558d9249-7602-44af-fcd4-07578472722e"
      },
      "source": [
        "for i in range(numline-1):\r\n",
        "  W, n, m = list(map(int, data['wnm'][i].split()))\r\n",
        "  wt = list(map(int, data['wt'][i].split()))\r\n",
        "  ans = data['ans'][i]\r\n",
        "  val=[]\r\n",
        "  for i in range(len(wt)):\r\n",
        "    if i < n: val.append(wt[i])\r\n",
        "    else: val.append(wt[i] - 1)\r\n",
        "  N = n+m\r\n",
        "  kq = knapSack(W, wt, val, N)\r\n",
        "  print(kq)\r\n",
        "  if kq == ans: print('True')\r\n",
        "  else: print('flase')\r\n"
      ],
      "execution_count": 140,
      "outputs": [
        {
          "output_type": "stream",
          "text": [
            "12\n",
            "True\n",
            "13\n",
            "True\n",
            "14\n",
            "True\n",
            "17\n",
            "True\n",
            "15\n",
            "True\n",
            "19\n",
            "True\n",
            "19\n",
            "True\n",
            "16\n",
            "True\n",
            "15\n",
            "True\n",
            "23\n",
            "True\n",
            "22\n",
            "True\n",
            "22\n",
            "True\n",
            "20\n",
            "True\n",
            "17\n",
            "True\n"
          ],
          "name": "stdout"
        }
      ]
    },
    {
      "cell_type": "code",
      "metadata": {
        "colab": {
          "base_uri": "https://localhost:8080/"
        },
        "id": "VLYl279mYXGV",
        "outputId": "8a0fd7c8-e6a7-4a11-deb2-7b5058f895d4"
      },
      "source": [
        "#nhap tay du lieu\r\n",
        "W = int(input())\r\n",
        "n = int(input())\r\n",
        "m = int(input())\r\n",
        "wt = []\r\n",
        "for i in range(n+m):\r\n",
        "  wt.append(int(input()))\r\n",
        "val=[]\r\n",
        "for i in range(len(wt)):\r\n",
        "  if i <n: val.append(wt[i])\r\n",
        "  else: val.append(wt[i] - 1)\r\n",
        "N = n+m\r\n",
        "print(W)\r\n",
        "print(wt)\r\n",
        "print(val)\r\n",
        "print(N)\r\n",
        "\r\n",
        "print(knapSack(W, wt, val, N)) "
      ],
      "execution_count": 141,
      "outputs": [
        {
          "output_type": "stream",
          "text": [
            "23\n",
            "3\n",
            "3\n",
            "5\n",
            "6\n",
            "4\n",
            "8\n",
            "5\n",
            "4\n",
            "23\n",
            "[5, 6, 4, 8, 5, 4]\n",
            "[5, 6, 4, 7, 4, 3]\n",
            "6\n",
            "22\n"
          ],
          "name": "stdout"
        }
      ]
    }
  ]
}