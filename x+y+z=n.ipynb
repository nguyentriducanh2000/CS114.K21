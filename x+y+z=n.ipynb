{
  "nbformat": 4,
  "nbformat_minor": 0,
  "metadata": {
    "colab": {
      "name": "x+y+z=n",
      "provenance": [],
      "authorship_tag": "ABX9TyMb90wCgrdxU7/+D/nZDQMa",
      "include_colab_link": true
    },
    "kernelspec": {
      "name": "python3",
      "display_name": "Python 3"
    }
  },
  "cells": [
    {
      "cell_type": "markdown",
      "metadata": {
        "id": "view-in-github",
        "colab_type": "text"
      },
      "source": [
        "<a href=\"https://colab.research.google.com/github/nguyentriducanh2000/CS114.K21/blob/master/x%2By%2Bz%3Dn.ipynb\" target=\"_parent\"><img src=\"https://colab.research.google.com/assets/colab-badge.svg\" alt=\"Open In Colab\"/></a>"
      ]
    },
    {
      "cell_type": "code",
      "metadata": {
        "id": "ke4i5BdbKXP7",
        "colab_type": "code",
        "colab": {
          "base_uri": "https://localhost:8080/",
          "height": 68
        },
        "outputId": "df72a2e7-f38b-43d1-a4bf-be8c56042e14"
      },
      "source": [
        "import time\n",
        "def soNT(n): #tim cac so nguyen nho hon n cho vao mang a \n",
        "    a=[]\n",
        "    i = 2\n",
        "    while (i < n):\n",
        "        j = 2\n",
        "        while (j < (i/j)):\n",
        "            if not (i%j):\n",
        "                break\n",
        "            j = j + 1\n",
        "        if (j >i/j):\n",
        "            a.append(i)\n",
        "        i = i + 1\n",
        "    return a\n",
        "def tim_nghiem(a, n):\n",
        "    if n % 2 == 0: \n",
        "        x = 2;\n",
        "        for i in a:\n",
        "            y = i\n",
        "            z = n - x -y\n",
        "            for j in a:\n",
        "                if j == z:\n",
        "                    print(x,y,z)\n",
        "                    return\n",
        "    if n % 2 == 0:\n",
        "        x = 3;\n",
        "        for i in a:\n",
        "            y = i\n",
        "            z = n - x - y\n",
        "            for j in a:\n",
        "                if j == z:\n",
        "                    print(x,y,z)\n",
        "                    return\n",
        "def main():               \n",
        "    n = int(input())\n",
        "    start_time = time.time() \n",
        "    a = soNT(n)\n",
        "    tim_nghiem(a, n)\n",
        "    end_time = time.time() \n",
        "    print( '%.10f' %(end_time-start_time))\n",
        "\n",
        "main()\n",
        "\n",
        "\n"
      ],
      "execution_count": 38,
      "outputs": [
        {
          "output_type": "stream",
          "text": [
            "6\n",
            "2 2 2\n",
            "0.0001504421\n"
          ],
          "name": "stdout"
        }
      ]
    }
  ]
}