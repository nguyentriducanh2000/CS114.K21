{
  "nbformat": 4,
  "nbformat_minor": 0,
  "metadata": {
    "colab": {
      "name": "bai3",
      "provenance": [],
      "authorship_tag": "ABX9TyOk+HvWgxdeXZBqqHPoELuO",
      "include_colab_link": true
    },
    "kernelspec": {
      "name": "python3",
      "display_name": "Python 3"
    }
  },
  "cells": [
    {
      "cell_type": "markdown",
      "metadata": {
        "id": "view-in-github",
        "colab_type": "text"
      },
      "source": [
        "<a href=\"https://colab.research.google.com/github/nguyentriducanh2000/CS114.K21/blob/master/bai3.ipynb\" target=\"_parent\"><img src=\"https://colab.research.google.com/assets/colab-badge.svg\" alt=\"Open In Colab\"/></a>"
      ]
    },
    {
      "cell_type": "markdown",
      "metadata": {
        "id": "6_H-FlKd4_V4",
        "colab_type": "text"
      },
      "source": [
        "*   Ket qua nhan duoc te hon so voi round 2\n",
        "*   Van de gap phai: do chinh xac thap hon. model khong phu hop voi data3\n",
        "\n",
        "\n",
        "*   Giai phap: tang chieu cho data\n",
        "*   "
      ]
    },
    {
      "cell_type": "code",
      "metadata": {
        "id": "Qj0ndcp_znXI",
        "colab_type": "code",
        "colab": {}
      },
      "source": [
        "import numpy as np\n",
        "import pandas as pd\n",
        "df = pd.read_csv(\"data3.csv\")\n",
        "df.columns=[\"size\",\"time\"]\n",
        "from sklearn import datasets, linear_model\n",
        "from sklearn.model_selection import train_test_split\n",
        "\n"
      ],
      "execution_count": 0,
      "outputs": []
    },
    {
      "cell_type": "markdown",
      "metadata": {
        "id": "-tmJen1h4-Fe",
        "colab_type": "text"
      },
      "source": [
        "**Tang chieu cho data**"
      ]
    },
    {
      "cell_type": "code",
      "metadata": {
        "id": "dre6OssH48v7",
        "colab_type": "code",
        "colab": {
          "base_uri": "https://localhost:8080/",
          "height": 34
        },
        "outputId": "1176f732-092b-496b-d49e-a928fd574087"
      },
      "source": [
        "import math\n",
        "df[\"size*2\"] = df[\"size\"] * 2\n",
        "df[\"size/2\"] = df[\"size\"] / 2\n",
        "df[\"size**2\"] = df[\"size\"] ** 2\n",
        "\n",
        "data = df.values\n",
        "X = data[:,0:1]\n",
        "y = data[:,1]\n",
        "\n",
        "X_train, X_test, Y_train, Y_test = train_test_split(X, y, test_size=0.2, random_state=1)\n",
        "regr = linear_model.LinearRegression() \n",
        "regr.fit(X_train, Y_train)\n",
        "\n",
        "\n",
        "regr.score(X_test,Y_test)"
      ],
      "execution_count": 24,
      "outputs": [
        {
          "output_type": "execute_result",
          "data": {
            "text/plain": [
              "0.9899679257032704"
            ]
          },
          "metadata": {
            "tags": []
          },
          "execution_count": 24
        }
      ]
    }
  ]
}