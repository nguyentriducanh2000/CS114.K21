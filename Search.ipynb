{
  "nbformat": 4,
  "nbformat_minor": 0,
  "metadata": {
    "colab": {
      "name": "Search.ipynb",
      "provenance": [],
      "collapsed_sections": [],
      "authorship_tag": "ABX9TyPRgKOrGE/xZIzHGzS/wR1S",
      "include_colab_link": true
    },
    "kernelspec": {
      "name": "python3",
      "display_name": "Python 3"
    }
  },
  "cells": [
    {
      "cell_type": "markdown",
      "metadata": {
        "id": "view-in-github",
        "colab_type": "text"
      },
      "source": [
        "<a href=\"https://colab.research.google.com/github/nguyentriducanh2000/CS114.K21/blob/master/Search.ipynb\" target=\"_parent\"><img src=\"https://colab.research.google.com/assets/colab-badge.svg\" alt=\"Open In Colab\"/></a>"
      ]
    },
    {
      "cell_type": "code",
      "metadata": {
        "id": "AKQR52uZlQTA",
        "colab_type": "code",
        "colab": {
          "base_uri": "https://localhost:8080/",
          "height": 527
        },
        "outputId": "6de733d0-bd20-45ed-b232-e03c863e129a"
      },
      "source": [
        "import random\n",
        "import time\n",
        "n=1000000\n",
        "def OptSearch(A,n,x):\n",
        "    A.append(x)\n",
        "    for i in range(0,n):\n",
        "       while  (A[i] != x):\n",
        "           i=i+1\n",
        "       if i==n:\n",
        "           return -1\n",
        "       else: return i\n",
        "def Search(A,n,x):\n",
        "    for i in range(0,n):\n",
        "       while ((i < n) and (A[i] != x)):\n",
        "           i=i+1\n",
        "       if i==n: return -1 \n",
        "       else: return i\n",
        "a=[]\n",
        "for i in range(n):\n",
        "    a.append(random.randrange(1000000))\n",
        "start_time=time.time()\n",
        "for i in range(0,10):\n",
        "\n",
        "    Search(a,n,i)\n",
        "    end_time=time.time()\n",
        "    print ('tong thoi gian tim voi Search: %.4f' % ((end_time-start_time)))\n",
        "    start_time1=time.time()\n",
        "    \n",
        "    OptSearch(a,n,i)\n",
        "    end_time2=time.time()\n",
        "    print ('tong thoi gian tim voi OptSearch: %.4f' % ((end_time2-start_time1)))\n",
        "    print('-'*100)\n",
        "    i=i+1"
      ],
      "execution_count": 81,
      "outputs": [
        {
          "output_type": "stream",
          "text": [
            "tong thoi gian tim voi Search: 0.0804\n",
            "tong thoi gian tim voi OptSearch: 0.0618\n",
            "----------------------------------------------------------------------------------------------------\n",
            "tong thoi gian tim voi Search: 0.1656\n",
            "tong thoi gian tim voi OptSearch: 0.0178\n",
            "----------------------------------------------------------------------------------------------------\n",
            "tong thoi gian tim voi Search: 0.2285\n",
            "tong thoi gian tim voi OptSearch: 0.0348\n",
            "----------------------------------------------------------------------------------------------------\n",
            "tong thoi gian tim voi Search: 0.3616\n",
            "tong thoi gian tim voi OptSearch: 0.0690\n",
            "----------------------------------------------------------------------------------------------------\n",
            "tong thoi gian tim voi Search: 0.5189\n",
            "tong thoi gian tim voi OptSearch: 0.0671\n",
            "----------------------------------------------------------------------------------------------------\n",
            "tong thoi gian tim voi Search: 0.6234\n",
            "tong thoi gian tim voi OptSearch: 0.0275\n",
            "----------------------------------------------------------------------------------------------------\n",
            "tong thoi gian tim voi Search: 0.6812\n",
            "tong thoi gian tim voi OptSearch: 0.0229\n",
            "----------------------------------------------------------------------------------------------------\n",
            "tong thoi gian tim voi Search: 0.7921\n",
            "tong thoi gian tim voi OptSearch: 0.0697\n",
            "----------------------------------------------------------------------------------------------------\n",
            "tong thoi gian tim voi Search: 0.9381\n",
            "tong thoi gian tim voi OptSearch: 0.0565\n",
            "----------------------------------------------------------------------------------------------------\n",
            "tong thoi gian tim voi Search: 1.0292\n",
            "tong thoi gian tim voi OptSearch: 0.0269\n",
            "----------------------------------------------------------------------------------------------------\n"
          ],
          "name": "stdout"
        }
      ]
    }
  ]
}